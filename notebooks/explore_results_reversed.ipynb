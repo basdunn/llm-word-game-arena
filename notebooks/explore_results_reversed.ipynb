{
 "cells": [
  {
   "cell_type": "code",
   "id": "initial_id",
   "metadata": {
    "collapsed": true,
    "ExecuteTime": {
     "end_time": "2024-07-10T04:14:16.176367Z",
     "start_time": "2024-07-10T04:14:16.174904Z"
    }
   },
   "source": [
    "import glob\n",
    "import pandas as pd\n",
    "import seaborn as sns\n",
    "import matplotlib.pyplot as plt"
   ],
   "outputs": [],
   "execution_count": 1
  },
  {
   "metadata": {},
   "cell_type": "markdown",
   "source": "### 1. Load the data",
   "id": "9d5c834a6f011250"
  },
  {
   "metadata": {
    "ExecuteTime": {
     "end_time": "2024-07-10T04:14:16.178357Z",
     "start_time": "2024-07-10T04:14:16.176950Z"
    }
   },
   "cell_type": "code",
   "source": [
    "INPUT_CSV_PATH = \"../data/1720579019/game_results.csv\"\n",
    "INPUT_LOG_DIR = \"../logs/1720579019/\""
   ],
   "id": "3582c418a90eddcf",
   "outputs": [],
   "execution_count": 2
  },
  {
   "metadata": {},
   "cell_type": "markdown",
   "source": "#### 1.1 Load log data",
   "id": "13e91928c8183a73"
  },
  {
   "metadata": {
    "ExecuteTime": {
     "end_time": "2024-07-10T04:14:16.250497Z",
     "start_time": "2024-07-10T04:14:16.178849Z"
    }
   },
   "cell_type": "code",
   "source": [
    "# read the first log file\n",
    "all_log_files = glob.glob(INPUT_LOG_DIR + \"/*.log\")\n",
    "log_file = all_log_files[0]\n",
    "with open(log_file, 'r') as f:\n",
    "    log_data = f.readlines()\n",
    "models_line = [line for line in log_data if 'Models:' in line][0]\n",
    "model_a, model_b = models_line.split('Models: ')[1].split('vs')\n",
    "model_a, model_b = model_a.strip(), model_b.strip()\n",
    "print(f\"Model A: {model_a}\")\n",
    "print(f\"Model B: {model_b}\")\n",
    "\n",
    "animal_counts = {}\n",
    "for log_file in all_log_files:\n",
    "    with open(log_file, 'r') as f:\n",
    "        log_lines = f.readlines()\n",
    "        for line in log_lines:\n",
    "            exp_line_split = line.split(\"run_experiment:116 - \")\n",
    "            if len(exp_line_split) > 1:\n",
    "                log_text_split = exp_line_split[1].split(\"  \")\n",
    "                animal = log_text_split[1].strip()\n",
    "                animal_counts[animal] = animal_counts.get(animal, 0) + 1\n",
    "df_animals = pd.DataFrame(list(animal_counts.items()), columns=['animal', 'count'])\n",
    "# print(df_animals.columns)\n",
    "df_animals"
   ],
   "id": "58ffb3997207e07",
   "outputs": [
    {
     "name": "stdout",
     "output_type": "stream",
     "text": [
      "Model A: gemma2:9b-instruct-q8_0\n",
      "Model B: llama3:8b-instruct-q8_0\n"
     ]
    },
    {
     "data": {
      "text/plain": [
       "                                animal  count\n",
       "0                             Elephant   6301\n",
       "1                                Tapir   1937\n",
       "2                                Rhino   1020\n",
       "3                              Ostrich   2724\n",
       "4                                Horse    984\n",
       "..                                 ...    ...\n",
       "154  Disqualified repeating an animal.      4\n",
       "155                           Antlered      5\n",
       "156                            Swallow      1\n",
       "157                          Wolverine      1\n",
       "158                I forfeit the game.      2\n",
       "\n",
       "[159 rows x 2 columns]"
      ],
      "text/html": [
       "<div>\n",
       "<style scoped>\n",
       "    .dataframe tbody tr th:only-of-type {\n",
       "        vertical-align: middle;\n",
       "    }\n",
       "\n",
       "    .dataframe tbody tr th {\n",
       "        vertical-align: top;\n",
       "    }\n",
       "\n",
       "    .dataframe thead th {\n",
       "        text-align: right;\n",
       "    }\n",
       "</style>\n",
       "<table border=\"1\" class=\"dataframe\">\n",
       "  <thead>\n",
       "    <tr style=\"text-align: right;\">\n",
       "      <th></th>\n",
       "      <th>animal</th>\n",
       "      <th>count</th>\n",
       "    </tr>\n",
       "  </thead>\n",
       "  <tbody>\n",
       "    <tr>\n",
       "      <th>0</th>\n",
       "      <td>Elephant</td>\n",
       "      <td>6301</td>\n",
       "    </tr>\n",
       "    <tr>\n",
       "      <th>1</th>\n",
       "      <td>Tapir</td>\n",
       "      <td>1937</td>\n",
       "    </tr>\n",
       "    <tr>\n",
       "      <th>2</th>\n",
       "      <td>Rhino</td>\n",
       "      <td>1020</td>\n",
       "    </tr>\n",
       "    <tr>\n",
       "      <th>3</th>\n",
       "      <td>Ostrich</td>\n",
       "      <td>2724</td>\n",
       "    </tr>\n",
       "    <tr>\n",
       "      <th>4</th>\n",
       "      <td>Horse</td>\n",
       "      <td>984</td>\n",
       "    </tr>\n",
       "    <tr>\n",
       "      <th>...</th>\n",
       "      <td>...</td>\n",
       "      <td>...</td>\n",
       "    </tr>\n",
       "    <tr>\n",
       "      <th>154</th>\n",
       "      <td>Disqualified repeating an animal.</td>\n",
       "      <td>4</td>\n",
       "    </tr>\n",
       "    <tr>\n",
       "      <th>155</th>\n",
       "      <td>Antlered</td>\n",
       "      <td>5</td>\n",
       "    </tr>\n",
       "    <tr>\n",
       "      <th>156</th>\n",
       "      <td>Swallow</td>\n",
       "      <td>1</td>\n",
       "    </tr>\n",
       "    <tr>\n",
       "      <th>157</th>\n",
       "      <td>Wolverine</td>\n",
       "      <td>1</td>\n",
       "    </tr>\n",
       "    <tr>\n",
       "      <th>158</th>\n",
       "      <td>I forfeit the game.</td>\n",
       "      <td>2</td>\n",
       "    </tr>\n",
       "  </tbody>\n",
       "</table>\n",
       "<p>159 rows × 2 columns</p>\n",
       "</div>"
      ]
     },
     "execution_count": 3,
     "metadata": {},
     "output_type": "execute_result"
    }
   ],
   "execution_count": 3
  },
  {
   "metadata": {},
   "cell_type": "markdown",
   "source": "#### 1.2 Load game results",
   "id": "cca3bc3ba62db2d9"
  },
  {
   "metadata": {
    "ExecuteTime": {
     "end_time": "2024-07-10T04:14:16.256615Z",
     "start_time": "2024-07-10T04:14:16.251101Z"
    }
   },
   "cell_type": "code",
   "source": [
    "df = pd.read_csv(INPUT_CSV_PATH)\n",
    "\n",
    "# replace 'Model A' and 'Model B' with the actual model names\n",
    "df['winner'] = df['winner'].replace('Model A', model_a)\n",
    "df['winner'] = df['winner'].replace('Model B', model_b)\n",
    "\n",
    "# Filter no winner\n",
    "df = df[df['winner'] != 'No winner']\n",
    "\n",
    "df"
   ],
   "id": "9fed0eaa99e9b5c3",
   "outputs": [
    {
     "data": {
      "text/plain": [
       "    experiment_number                   winner  \\\n",
       "0                   1  llama3:8b-instruct-q8_0   \n",
       "1                   2  llama3:8b-instruct-q8_0   \n",
       "2                   3  gemma2:9b-instruct-q8_0   \n",
       "3                   4  llama3:8b-instruct-q8_0   \n",
       "4                   5  gemma2:9b-instruct-q8_0   \n",
       "..                ...                      ...   \n",
       "95                 96  llama3:8b-instruct-q8_0   \n",
       "96                 97  llama3:8b-instruct-q8_0   \n",
       "97                 98  llama3:8b-instruct-q8_0   \n",
       "98                 99  llama3:8b-instruct-q8_0   \n",
       "99                100  gemma2:9b-instruct-q8_0   \n",
       "\n",
       "                                               reason  \n",
       "0       A disqualified: Disqualified repeated animal.  \n",
       "1                                         A forfeited  \n",
       "2   B disqualified: Nocturnal  Disqualified [Anima...  \n",
       "3   A disqualified: Disqualified repeating an animal.  \n",
       "4   B disqualified: Antlered  disqualified [Repeat...  \n",
       "..                                                ...  \n",
       "95  A disqualified: Disqualified Previous animal a...  \n",
       "96        A disqualified: Disqualified repeat animal.  \n",
       "97             A response too long (so not an animal)  \n",
       "98             A response too long (so not an animal)  \n",
       "99  B disqualified: Axolotl \\n\\nDisqualified (Anim...  \n",
       "\n",
       "[100 rows x 3 columns]"
      ],
      "text/html": [
       "<div>\n",
       "<style scoped>\n",
       "    .dataframe tbody tr th:only-of-type {\n",
       "        vertical-align: middle;\n",
       "    }\n",
       "\n",
       "    .dataframe tbody tr th {\n",
       "        vertical-align: top;\n",
       "    }\n",
       "\n",
       "    .dataframe thead th {\n",
       "        text-align: right;\n",
       "    }\n",
       "</style>\n",
       "<table border=\"1\" class=\"dataframe\">\n",
       "  <thead>\n",
       "    <tr style=\"text-align: right;\">\n",
       "      <th></th>\n",
       "      <th>experiment_number</th>\n",
       "      <th>winner</th>\n",
       "      <th>reason</th>\n",
       "    </tr>\n",
       "  </thead>\n",
       "  <tbody>\n",
       "    <tr>\n",
       "      <th>0</th>\n",
       "      <td>1</td>\n",
       "      <td>llama3:8b-instruct-q8_0</td>\n",
       "      <td>A disqualified: Disqualified repeated animal.</td>\n",
       "    </tr>\n",
       "    <tr>\n",
       "      <th>1</th>\n",
       "      <td>2</td>\n",
       "      <td>llama3:8b-instruct-q8_0</td>\n",
       "      <td>A forfeited</td>\n",
       "    </tr>\n",
       "    <tr>\n",
       "      <th>2</th>\n",
       "      <td>3</td>\n",
       "      <td>gemma2:9b-instruct-q8_0</td>\n",
       "      <td>B disqualified: Nocturnal  Disqualified [Anima...</td>\n",
       "    </tr>\n",
       "    <tr>\n",
       "      <th>3</th>\n",
       "      <td>4</td>\n",
       "      <td>llama3:8b-instruct-q8_0</td>\n",
       "      <td>A disqualified: Disqualified repeating an animal.</td>\n",
       "    </tr>\n",
       "    <tr>\n",
       "      <th>4</th>\n",
       "      <td>5</td>\n",
       "      <td>gemma2:9b-instruct-q8_0</td>\n",
       "      <td>B disqualified: Antlered  disqualified [Repeat...</td>\n",
       "    </tr>\n",
       "    <tr>\n",
       "      <th>...</th>\n",
       "      <td>...</td>\n",
       "      <td>...</td>\n",
       "      <td>...</td>\n",
       "    </tr>\n",
       "    <tr>\n",
       "      <th>95</th>\n",
       "      <td>96</td>\n",
       "      <td>llama3:8b-instruct-q8_0</td>\n",
       "      <td>A disqualified: Disqualified Previous animal a...</td>\n",
       "    </tr>\n",
       "    <tr>\n",
       "      <th>96</th>\n",
       "      <td>97</td>\n",
       "      <td>llama3:8b-instruct-q8_0</td>\n",
       "      <td>A disqualified: Disqualified repeat animal.</td>\n",
       "    </tr>\n",
       "    <tr>\n",
       "      <th>97</th>\n",
       "      <td>98</td>\n",
       "      <td>llama3:8b-instruct-q8_0</td>\n",
       "      <td>A response too long (so not an animal)</td>\n",
       "    </tr>\n",
       "    <tr>\n",
       "      <th>98</th>\n",
       "      <td>99</td>\n",
       "      <td>llama3:8b-instruct-q8_0</td>\n",
       "      <td>A response too long (so not an animal)</td>\n",
       "    </tr>\n",
       "    <tr>\n",
       "      <th>99</th>\n",
       "      <td>100</td>\n",
       "      <td>gemma2:9b-instruct-q8_0</td>\n",
       "      <td>B disqualified: Axolotl \\n\\nDisqualified (Anim...</td>\n",
       "    </tr>\n",
       "  </tbody>\n",
       "</table>\n",
       "<p>100 rows × 3 columns</p>\n",
       "</div>"
      ]
     },
     "execution_count": 4,
     "metadata": {},
     "output_type": "execute_result"
    }
   ],
   "execution_count": 4
  },
  {
   "metadata": {},
   "cell_type": "markdown",
   "source": "### 2. Plot data",
   "id": "a4aefdf21513f611"
  },
  {
   "metadata": {},
   "cell_type": "markdown",
   "source": "#### 2.1 Plot winners",
   "id": "e93d44c7589eb93d"
  },
  {
   "metadata": {
    "ExecuteTime": {
     "end_time": "2024-07-10T04:14:16.342396Z",
     "start_time": "2024-07-10T04:14:16.257323Z"
    }
   },
   "cell_type": "code",
   "source": [
    "sns.set_palette(\"pastel\")\n",
    "sns.set_style(\"whitegrid\", {'axes.grid' : False})\n",
    "plt.figure(figsize=(10, 6))\n",
    "sns.countplot(data=df, x='winner', hue='winner')\n",
    "plt.title(f\"Number of wins in Animal Word Game\")"
   ],
   "id": "a8a6220164ab160d",
   "outputs": [
    {
     "data": {
      "text/plain": [
       "Text(0.5, 1.0, 'Number of wins in Animal Word Game')"
      ]
     },
     "execution_count": 5,
     "metadata": {},
     "output_type": "execute_result"
    },
    {
     "data": {
      "text/plain": [
       "<Figure size 1000x600 with 1 Axes>"
      ],
      "image/png": "[encoded data removed]"
     },
     "metadata": {},
     "output_type": "display_data"
    }
   ],
   "execution_count": 5
  },
  {
   "metadata": {},
   "cell_type": "markdown",
   "source": "#### 2.2 Plot animals",
   "id": "d3dbed79db37efed"
  },
  {
   "metadata": {
    "ExecuteTime": {
     "end_time": "2024-07-10T04:14:16.437716Z",
     "start_time": "2024-07-10T04:14:16.343136Z"
    }
   },
   "cell_type": "code",
   "source": [
    "sns.set_style(\"whitegrid\", {'axes.grid' : False})\n",
    "plt.figure(figsize=(10, 6))\n",
    "df_animal_top10 = df_animals.sort_values(by='count', ascending=False).head(10)\n",
    "sns.barplot(data=df_animal_top10, x='animal', y='count')"
   ],
   "id": "4d3dca75ea2ed9de",
   "outputs": [
    {
     "data": {
      "text/plain": [
       "<Axes: xlabel='animal', ylabel='count'>"
      ]
     },
     "execution_count": 6,
     "metadata": {},
     "output_type": "execute_result"
    },
    {
     "data": {
      "text/plain": [
       "<Figure size 1000x600 with 1 Axes>"
      ],
      "image/png": "[encoded data removed]"
     },
     "metadata": {},
     "output_type": "display_data"
    }
   ],
   "execution_count": 6
  },
  {
   "metadata": {},
   "cell_type": "markdown",
   "source": "#### 2.3 Count the reasons",
   "id": "68952464f372cdfb"
  },
  {
   "metadata": {
    "ExecuteTime": {
     "end_time": "2024-07-10T04:17:19.819207Z",
     "start_time": "2024-07-10T04:17:19.716856Z"
    }
   },
   "cell_type": "code",
   "source": [
    "def get_basic_reason(reason_str):\n",
    "    if \"forfeit\" in reason_str.lower():\n",
    "        return \"Other player forfeited\"\n",
    "    elif \"disqualified\" in reason_str.lower():\n",
    "        return \"Other player disqualified\"\n",
    "    elif \"no conclusion\" in reason_str.lower():\n",
    "        return \"No conclusion\"\n",
    "    else:\n",
    "        return \"Other\"\n",
    "\n",
    "df['reason_basic'] = df['reason'].apply(get_basic_reason)\n",
    "\n",
    "sns.set_style(\"whitegrid\", {'axes.grid' : False})\n",
    "plt.figure(figsize=(10, 6))\n",
    "sns.countplot(data=df, x='reason_basic', hue=\"winner\")\n",
    "plt.title(f\"Reasons for game endings\")"
   ],
   "id": "d3cf01d44529b183",
   "outputs": [
    {
     "data": {
      "text/plain": [
       "Text(0.5, 1.0, 'Reasons for game endings')"
      ]
     },
     "execution_count": 9,
     "metadata": {},
     "output_type": "execute_result"
    },
    {
     "data": {
      "text/plain": [
       "<Figure size 1000x600 with 1 Axes>"
      ],
      "image/png": "[encoded data removed]"
     },
     "metadata": {},
     "output_type": "display_data"
    }
   ],
   "execution_count": 9
  },
  {
   "metadata": {
    "ExecuteTime": {
     "end_time": "2024-07-10T04:14:16.522374Z",
     "start_time": "2024-07-10T04:14:16.519951Z"
    }
   },
   "cell_type": "code",
   "source": [
    "# count percentage of forfeit\n",
    "total_games = df.shape[0]\n",
    "forfeit_games = df[df['reason_basic'] == 'forfeit'].shape[0]\n",
    "print(f\"Percentage of forfeit games: {forfeit_games / total_games * 100:.2f}%\")"
   ],
   "id": "b9258153b47f0109",
   "outputs": [
    {
     "name": "stdout",
     "output_type": "stream",
     "text": [
      "Percentage of forfeit games: 1.00%\n"
     ]
    }
   ],
   "execution_count": 8
  },
  {
   "metadata": {
    "ExecuteTime": {
     "end_time": "2024-07-10T04:14:16.524293Z",
     "start_time": "2024-07-10T04:14:16.523070Z"
    }
   },
   "cell_type": "code",
   "source": "",
   "id": "4563a35799835000",
   "outputs": [],
   "execution_count": 8
  }
 ],
 "metadata": {
  "kernelspec": {
   "display_name": "Python 3",
   "language": "python",
   "name": "python3"
  },
  "language_info": {
   "codemirror_mode": {
    "name": "ipython",
    "version": 2
   },
   "file_extension": ".py",
   "mimetype": "text/x-python",
   "name": "python",
   "nbconvert_exporter": "python",
   "pygments_lexer": "ipython2",
   "version": "2.7.6"
  }
 },
 "nbformat": 4,
 "nbformat_minor": 5
}
